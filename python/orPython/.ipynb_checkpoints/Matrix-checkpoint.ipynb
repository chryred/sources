{
 "cells": [
  {
   "cell_type": "code",
   "execution_count": 4,
   "metadata": {},
   "outputs": [
    {
     "data": {
      "text/plain": [
       "[7, 10]"
      ]
     },
     "execution_count": 4,
     "metadata": {},
     "output_type": "execute_result"
    }
   ],
   "source": [
    "u = [2, 2]\n",
    "v = [2, 3]\n",
    "z = [3, 5]\n",
    "[sum(i) for i in zip(u, v, z)]"
   ]
  },
  {
   "cell_type": "code",
   "execution_count": 8,
   "metadata": {},
   "outputs": [
    {
     "data": {
      "text/plain": [
       "[28, 40]"
      ]
     },
     "execution_count": 8,
     "metadata": {},
     "output_type": "execute_result"
    }
   ],
   "source": [
    "alpha = 4\n",
    "[alpha * sum(i) for i in zip(u, v, z)]"
   ]
  },
  {
   "cell_type": "code",
   "execution_count": 42,
   "metadata": {},
   "outputs": [
    {
     "data": {
      "text/plain": [
       "[[7, 15], [9, 14]]"
      ]
     },
     "execution_count": 42,
     "metadata": {},
     "output_type": "execute_result"
    }
   ],
   "source": [
    "a = [[3, 6], [4, 5]]\n",
    "b = [[4, 9], [5, 9]]\n",
    "r = [[sum(row) for row in zip(*t)] for t in zip(a, b)]\n",
    "r"
   ]
  },
  {
   "cell_type": "code",
   "execution_count": 46,
   "metadata": {},
   "outputs": [
    {
     "data": {
      "text/plain": [
       "[[1, 4], [2, 5], [3, 6]]"
      ]
     },
     "execution_count": 46,
     "metadata": {},
     "output_type": "execute_result"
    }
   ],
   "source": [
    "a = [[1, 2, 3], [4, 5, 6]]\n",
    "[[ele for ele in col] for col in zip(*a)]"
   ]
  },
  {
   "cell_type": "code",
   "execution_count": 52,
   "metadata": {},
   "outputs": [
    {
     "data": {
      "text/plain": [
       "[[14, 32], [32, 77]]"
      ]
     },
     "execution_count": 52,
     "metadata": {},
     "output_type": "execute_result"
    }
   ],
   "source": [
    "a = [[1, 2, 3], [4, 5, 6]]\n",
    "b = [[1, 4], [2, 5], [3, 6]]\n",
    "\n",
    "[[sum(a * b for a, b in zip(row, col)) for col in zip(*b)] for row in a]"
   ]
  },
  {
   "cell_type": "code",
   "execution_count": 60,
   "metadata": {},
   "outputs": [
    {
     "name": "stdout",
     "output_type": "stream",
     "text": [
      "[[6, 14], [11, 8]]\n"
     ]
    }
   ],
   "source": [
    "class Matrix(object):\n",
    "    def __init__(self, matrix_list=None):\n",
    "        if matrix_list is not None:\n",
    "            self.matrix_list = matrix_list\n",
    "    def __add__(self, other):\n",
    "        if isinstance(other, Matrix):\n",
    "            result = [[sum(row) for row in zip(*t)] for t in zip(self.matrix_list, other.matrix_list)]\n",
    "            return Matrix(result)\n",
    "        else:\n",
    "            raise TypeError\n",
    "    def __str__(self):\n",
    "        return str(self.matrix_list)\n",
    "\n",
    "a = [[3, 6], [3, 4]]\n",
    "mat_x = Matrix(a)\n",
    "b = [[3, 8], [8, 4]]\n",
    "mat_y = Matrix(b)\n",
    "print(mat_x + mat_y)"
   ]
  }
 ],
 "metadata": {
  "kernelspec": {
   "display_name": "Python 3",
   "language": "python",
   "name": "python3"
  },
  "language_info": {
   "codemirror_mode": {
    "name": "ipython",
    "version": 3
   },
   "file_extension": ".py",
   "mimetype": "text/x-python",
   "name": "python",
   "nbconvert_exporter": "python",
   "pygments_lexer": "ipython3",
   "version": "3.5.4"
  }
 },
 "nbformat": 4,
 "nbformat_minor": 2
}
