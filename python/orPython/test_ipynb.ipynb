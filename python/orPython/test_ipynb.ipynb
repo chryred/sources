{
 "cells": [
  {
   "cell_type": "code",
   "execution_count": 3,
   "metadata": {},
   "outputs": [
    {
     "name": "stdout",
     "output_type": "stream",
     "text": [
      "121133\n"
     ]
    },
    {
     "data": {
      "text/plain": [
       "5"
      ]
     },
     "execution_count": 3,
     "metadata": {},
     "output_type": "execute_result"
    }
   ],
   "source": [
    "print(121133)\n",
    "a = 3\n",
    "b = 2\n",
    "a + b"
   ]
  },
  {
   "cell_type": "code",
   "execution_count": 1,
   "metadata": {},
   "outputs": [
    {
     "name": "stdout",
     "output_type": "stream",
     "text": [
      "['', 'C:\\\\Users\\\\lenovo\\\\Miniconda3\\\\envs\\\\orPython\\\\python35.zip', 'C:\\\\Users\\\\lenovo\\\\Miniconda3\\\\envs\\\\orPython\\\\DLLs', 'C:\\\\Users\\\\lenovo\\\\Miniconda3\\\\envs\\\\orPython\\\\lib', 'C:\\\\Users\\\\lenovo\\\\Miniconda3\\\\envs\\\\orPython', 'C:\\\\Users\\\\lenovo\\\\Miniconda3\\\\envs\\\\orPython\\\\lib\\\\site-packages', 'C:\\\\Users\\\\lenovo\\\\Miniconda3\\\\envs\\\\orPython\\\\lib\\\\site-packages\\\\IPython\\\\extensions', 'C:\\\\Users\\\\lenovo\\\\.ipython']\n"
     ]
    }
   ],
   "source": [
    "a = \"ssss\"\n",
    "c = \"sssc\"\n",
    "a + c\n",
    "\n",
    "import sys\n",
    "print(sys.path)"
   ]
  }
 ],
 "metadata": {
  "kernelspec": {
   "display_name": "Python 3",
   "language": "python",
   "name": "python3"
  },
  "language_info": {
   "codemirror_mode": {
    "name": "ipython",
    "version": 3
   },
   "file_extension": ".py",
   "mimetype": "text/x-python",
   "name": "python",
   "nbconvert_exporter": "python",
   "pygments_lexer": "ipython3",
   "version": "3.5.4"
  }
 },
 "nbformat": 4,
 "nbformat_minor": 2
}
