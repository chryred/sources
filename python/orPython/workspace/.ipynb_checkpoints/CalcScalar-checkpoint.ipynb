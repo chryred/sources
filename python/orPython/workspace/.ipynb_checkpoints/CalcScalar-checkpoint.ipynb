{
 "cells": [
  {
   "cell_type": "code",
   "execution_count": 2,
   "metadata": {
    "collapsed": true
   },
   "outputs": [],
   "source": [
    "def sclar_vector_product(scalar, vector):\n",
    "    result = []\n",
    "    for value in vector:\n",
    "        result.append(scalar * value)\n",
    "    return result\n",
    "\n",
    "iternation_max = 1000\n",
    "vector = list(range(iternation_max))\n",
    "scalar = 2\n",
    "\n",
    "# 마이그로초(us) : 1/1,000,000초\n",
    "# 나노초(ns) : 1/1,000,000,000초"
   ]
  },
  {
   "cell_type": "code",
   "execution_count": 3,
   "metadata": {},
   "outputs": [
    {
     "name": "stdout",
     "output_type": "stream",
     "text": [
      "13.2 µs ± 1.05 µs per loop (mean ± std. dev. of 7 runs, 1000 loops each)\n",
      "7.54 µs ± 346 ns per loop (mean ± std. dev. of 7 runs, 1000 loops each)\n",
      "1.63 µs ± 97 ns per loop (mean ± std. dev. of 7 runs, 1000 loops each)\n"
     ]
    }
   ],
   "source": [
    "import numpy as np\n",
    "\n",
    "%timeit -n1000 sclar_vector_product(scalar, vector)\n",
    "%timeit -n1000 [scalar * value for value in range(iternation_max)]\n",
    "%timeit -n1000 np.arange(iternation_max) * scalar"
   ]
  }
 ],
 "metadata": {
  "kernelspec": {
   "display_name": "Python 3",
   "language": "python",
   "name": "python3"
  },
  "language_info": {
   "codemirror_mode": {
    "name": "ipython",
    "version": 3
   },
   "file_extension": ".py",
   "mimetype": "text/x-python",
   "name": "python",
   "nbconvert_exporter": "python",
   "pygments_lexer": "ipython3",
   "version": "3.5.4"
  }
 },
 "nbformat": 4,
 "nbformat_minor": 2
}
