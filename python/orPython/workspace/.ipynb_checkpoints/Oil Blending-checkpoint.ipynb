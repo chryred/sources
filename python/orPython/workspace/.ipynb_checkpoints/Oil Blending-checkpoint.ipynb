{
 "cells": [
  {
   "cell_type": "code",
   "execution_count": 4,
   "metadata": {},
   "outputs": [
    {
     "data": {
      "text/plain": [
       "[['x00', 'x10', 'x20'], ['x01', 'x11', 'x21'], ['x02', 'x12', 'x22']]"
      ]
     },
     "execution_count": 4,
     "metadata": {},
     "output_type": "execute_result"
    }
   ],
   "source": [
    "from gurobipy import *\n",
    "\n",
    "gas_sales = [70, 60, 50]\n",
    "crude_purchases = [45, 34, 25]\n",
    "\n",
    "gas_constr = [3000, 2000, 1000]\n",
    "crude_constr = 5000\n",
    "\n",
    "crude_octane_rating = [12, 6, 7]\n",
    "\n",
    "octane_level_constr = [\n",
    "    [2, -4, -2],\n",
    "    [0, 4, -2],\n",
    "    [6, 0, 2]\n",
    "]\n",
    "\n",
    "x_var_names = [[\"x\" + str(i) + str(j) for i in range(3)] for j in range(3)]\n",
    "ad_var_names = [\"a\" + str(i) for i in range(3)]\n",
    "x_var_names"
   ]
  },
  {
   "cell_type": "code",
   "execution_count": 14,
   "metadata": {},
   "outputs": [
    {
     "data": {
      "text/plain": [
       "<gurobi.LinExpr: 21.0 (x00) + 11.0 (x10) + (x20) + 32.0 (x01) + 22.0 (x11) + 12.0 (x21) + 41.0 (x02) + 31.0 (x12) + 21.0 (x22) + -1.0 (a0) + -1.0 (a1) + -1.0 (a2)>"
      ]
     },
     "execution_count": 14,
     "metadata": {},
     "output_type": "execute_result"
    }
   ],
   "source": [
    "# Model\n",
    "m = Model(\"project_selection\")\n",
    "x_vars = []\n",
    "ad_vars = []\n",
    "\n",
    "for i in range(3):\n",
    "    x_vars.append([])\n",
    "    for j in range(3):\n",
    "        x_vars[i].append(\n",
    "            m.addVar(\n",
    "                vtype=GRB.CONTINUOUS,\n",
    "                obj = gas_sales[j] - crude_purchases[i] - 4,\n",
    "                name = \"(%s)\" %(x_var_names[i][j])\n",
    "            )\n",
    "        )\n",
    "\n",
    "for j in range(3):\n",
    "    ad_vars.append(\n",
    "        m.addVar(\n",
    "            vtype = GRB.CONTINUOUS,\n",
    "            obj = -1,\n",
    "            name = \"(%s)\" %(ad_var_names[j])\n",
    "        )\n",
    "    )\n",
    "\n",
    "m.modelSense = GRB.MAXIMIZE\n",
    "m.update()\n",
    "\n",
    "m.getObjective()"
   ]
  },
  {
   "cell_type": "code",
   "execution_count": 16,
   "metadata": {},
   "outputs": [
    {
     "data": {
      "text/plain": [
       "[<gurobi.Constr Gas 0 requirment>,\n",
       " <gurobi.Constr Gas 1 requirment>,\n",
       " <gurobi.Constr Gas 2 requirment>,\n",
       " <gurobi.Constr Gas 0 requirment>,\n",
       " <gurobi.Constr Gas 1 requirment>,\n",
       " <gurobi.Constr Gas 2 requirment>]"
      ]
     },
     "execution_count": 16,
     "metadata": {},
     "output_type": "execute_result"
    }
   ],
   "source": [
    "# Gas Constr\n",
    "for gas in range(3):\n",
    "    constrs = [x_vars[crude][gas] for crude in range(3)]\n",
    "    constrs.append(-10 * ad_vars[gas])\n",
    "    m.addConstr(\n",
    "        quicksum(constrs) == gas_constr[gas],\n",
    "        \"Gas %d requirment\" % gas\n",
    "    )\n",
    "    \n",
    "m.update()\n",
    "m.getConstrs()"
   ]
  },
  {
   "cell_type": "code",
   "execution_count": 19,
   "metadata": {},
   "outputs": [
    {
     "data": {
      "text/plain": [
       "[<gurobi.Constr Gas 0 requirment>,\n",
       " <gurobi.Constr Gas 1 requirment>,\n",
       " <gurobi.Constr Gas 2 requirment>,\n",
       " <gurobi.Constr Gas 0 requirment>,\n",
       " <gurobi.Constr Gas 1 requirment>,\n",
       " <gurobi.Constr Gas 2 requirment>,\n",
       " <gurobi.Constr Crude Oil 0 requirement>,\n",
       " <gurobi.Constr Crude Oil 1 requirement>,\n",
       " <gurobi.Constr Crude Oil 2 requirement>,\n",
       " <gurobi.Constr Crude Oil 0 requirement>,\n",
       " <gurobi.Constr Crude Oil 1 requirement>,\n",
       " <gurobi.Constr Crude Oil 2 requirement>]"
      ]
     },
     "execution_count": 19,
     "metadata": {},
     "output_type": "execute_result"
    }
   ],
   "source": [
    "# Crude Constr\n",
    "for crude in range(3):\n",
    "    constrs = [x_vars[crude][gas] for gas in range(3)]\n",
    "    m.addConstr(\n",
    "        quicksum(constrs) <= crude_constr,\n",
    "        \"Crude Oil %d requirement\" % crude\n",
    "    )\n",
    "m.update()\n",
    "m.getConstrs()"
   ]
  },
  {
   "cell_type": "code",
   "execution_count": 21,
   "metadata": {},
   "outputs": [
    {
     "data": {
      "text/plain": [
       "[<gurobi.Constr Gas 0 requirment>,\n",
       " <gurobi.Constr Gas 1 requirment>,\n",
       " <gurobi.Constr Gas 2 requirment>,\n",
       " <gurobi.Constr Gas 0 requirment>,\n",
       " <gurobi.Constr Gas 1 requirment>,\n",
       " <gurobi.Constr Gas 2 requirment>,\n",
       " <gurobi.Constr Crude Oil 0 requirement>,\n",
       " <gurobi.Constr Crude Oil 1 requirement>,\n",
       " <gurobi.Constr Crude Oil 2 requirement>,\n",
       " <gurobi.Constr Crude Oil 0 requirement>,\n",
       " <gurobi.Constr Crude Oil 1 requirement>,\n",
       " <gurobi.Constr Crude Oil 2 requirement>,\n",
       " <gurobi.Constr reginery capacity limit>,\n",
       " <gurobi.Constr reginery capacity limit>]"
      ]
     },
     "execution_count": 21,
     "metadata": {},
     "output_type": "execute_result"
    }
   ],
   "source": [
    "# Constrs for refindery capacity limit\n",
    "constrs = [x_vars[crude][gas] for crude in range(3) for gas in range(3)]\n",
    "m.addConstr(quicksum(constrs) == 14000, \"reginery capacity limit\")\n",
    "\n",
    "m.update()\n",
    "m.getConstrs()"
   ]
  },
  {
   "cell_type": "code",
   "execution_count": 24,
   "metadata": {},
   "outputs": [
    {
     "data": {
      "text/plain": [
       "[<gurobi.Constr Gas 0 requirment>,\n",
       " <gurobi.Constr Gas 1 requirment>,\n",
       " <gurobi.Constr Gas 2 requirment>,\n",
       " <gurobi.Constr Gas 0 requirment>,\n",
       " <gurobi.Constr Gas 1 requirment>,\n",
       " <gurobi.Constr Gas 2 requirment>,\n",
       " <gurobi.Constr Crude Oil 0 requirement>,\n",
       " <gurobi.Constr Crude Oil 1 requirement>,\n",
       " <gurobi.Constr Crude Oil 2 requirement>,\n",
       " <gurobi.Constr Crude Oil 0 requirement>,\n",
       " <gurobi.Constr Crude Oil 1 requirement>,\n",
       " <gurobi.Constr Crude Oil 2 requirement>,\n",
       " <gurobi.Constr reginery capacity limit>,\n",
       " <gurobi.Constr reginery capacity limit>,\n",
       " <gurobi.Constr Ocatane level in Gas 0 requirement>,\n",
       " <gurobi.Constr Ocatane level in Gas 1 requirement>,\n",
       " <gurobi.Constr Ocatane level in Gas 2 requirement>,\n",
       " <gurobi.Constr Ocatane level in Gas 0 requirement>,\n",
       " <gurobi.Constr Ocatane level in Gas 1 requirement>,\n",
       " <gurobi.Constr Ocatane level in Gas 2 requirement>]"
      ]
     },
     "execution_count": 24,
     "metadata": {},
     "output_type": "execute_result"
    }
   ],
   "source": [
    "for crude in range(3):\n",
    "    constrs = [octane_level_constr[crude][gas] * x_vars[crude][gas] for gas in range(3)]\n",
    "    m.addConstr(\n",
    "        quicksum(constrs) >= 0,\n",
    "        \"Ocatane level in Gas %d requirement\" % crude\n",
    "    )\n",
    "\n",
    "m.update()\n",
    "m.getConstrs()"
   ]
  },
  {
   "cell_type": "code",
   "execution_count": 26,
   "metadata": {},
   "outputs": [
    {
     "name": "stdout",
     "output_type": "stream",
     "text": [
      "Optimize a model with 26 rows, 12 columns and 86 nonzeros\n",
      "Coefficient statistics:\n",
      "  Matrix range     [5e-03, 1e+01]\n",
      "  Objective range  [1e+00, 4e+01]\n",
      "  Bounds range     [0e+00, 0e+00]\n",
      "  RHS range        [1e+03, 1e+04]\n",
      "Iteration    Objective       Primal Inf.    Dual Inf.      Time\n",
      "       0    4.0820000e+05   0.000000e+00   0.000000e+00      0s\n",
      "\n",
      "Solved in 0 iterations and 0.02 seconds\n",
      "Optimal objective  4.082000000e+05\n"
     ]
    }
   ],
   "source": [
    "sulfur_content = [0.005, 0.02, 0.03]\n",
    "sulfur_at_most = [0.01, 0.02, 0.01]\n",
    "\n",
    "for gas in range(3):\n",
    "    constrs_lhs = [sulfur_content[crude] * x_vars[crude][gas] for crude in range(3)]\n",
    "    constrs_rhs = [sulfur_at_most[crude] * x_vars[crude][gas] for crude in range(3)]\n",
    "    m.addConstr(\n",
    "        quicksum(constrs_lhs) >= quicksum(constrs_rhs),\n",
    "        \"Sulfur content in Gas %d requiremenet\" % gas\n",
    "    )\n",
    "m.update()\n",
    "m.getConstrs()\n",
    "m.optimize()"
   ]
  },
  {
   "cell_type": "code",
   "execution_count": 28,
   "metadata": {},
   "outputs": [
    {
     "name": "stdout",
     "output_type": "stream",
     "text": [
      "(x00) 2666.6666666666665\n",
      "(x10) 1333.3333333333333\n",
      "(x20) 0.0\n",
      "(x01) 5000.0\n",
      "(x11) 0.0\n",
      "(x21) 0.0\n",
      "(x02) 3333.333333333333\n",
      "(x12) 666.6666666666667\n",
      "(x22) 1000.0\n",
      "(a0) 799.9999999999999\n",
      "(a1) 0.0\n",
      "(a2) 0.0\n",
      "408200.00000000006\n"
     ]
    }
   ],
   "source": [
    "for v in m.getVars():\n",
    "    print(v.varName, v.x)\n",
    "\n",
    "print(m.getObjective().getValue())"
   ]
  }
 ],
 "metadata": {
  "kernelspec": {
   "display_name": "Python 3",
   "language": "python",
   "name": "python3"
  },
  "language_info": {
   "codemirror_mode": {
    "name": "ipython",
    "version": 3
   },
   "file_extension": ".py",
   "mimetype": "text/x-python",
   "name": "python",
   "nbconvert_exporter": "python",
   "pygments_lexer": "ipython3",
   "version": "3.5.4"
  }
 },
 "nbformat": 4,
 "nbformat_minor": 2
}
