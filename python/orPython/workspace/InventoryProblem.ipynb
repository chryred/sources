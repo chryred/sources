{
 "cells": [
  {
   "cell_type": "code",
   "execution_count": 16,
   "metadata": {},
   "outputs": [],
   "source": [
    "from gurobipy import *\n",
    "'''\n",
    "    min z = 400(x1 + x2 + x3 + x4) + 450(y1 + y2 + y3 + y4) + 20(i1 + i2 + i3+ i4)\n",
    "    min z = 400x1 + 400x2 + 400x3 + 400x4 ~~\n",
    "    i1 = 10 + x1 + y1 - 40\n",
    "    i2 = i1 + x2 + y2 - 60\n",
    "    i3 = i2 + x3 + y3 - 75\n",
    "    i4 = i3 + x4 + y4 - 25\n",
    "    x1 <= 40, x2 <= 40, x3 <= 40, x4 <= 40\n",
    "    it >= 0, yt >= 0, xt >= 0(t=1,2,3,4)\n",
    "'''\n",
    "time_period = ['q1', 'q2', 'q3', 'q4']\n",
    "tlength = len(time_period)\n",
    "demand = [40, 60, 75, 25]\n",
    "m = Model(\"Inventory\")\n",
    "vars = [[],[],[]]\n",
    "vars[2].append(10)\n",
    "for i in range(tlength):\n",
    "    vars[0].append(\n",
    "        m.addVar(vtype=GRB.CONTINUOUS, obj=400, name=\"(x-%d)\" %(i))\n",
    "    )\n",
    "    vars[1].append(\n",
    "        m.addVar(vtype=GRB.CONTINUOUS, obj=450, name=\"(y-%d)\" %(i))\n",
    "    )\n",
    "    vars[2].append(\n",
    "        m.addVar(vtype=GRB.CONTINUOUS, obj=20, name=\"(overhead-%d)\" %(i))\n",
    "    )\n",
    "m.modelSense = GRB.MINIMIZE\n",
    "m.update()"
   ]
  },
  {
   "cell_type": "code",
   "execution_count": 17,
   "metadata": {},
   "outputs": [
    {
     "name": "stdout",
     "output_type": "stream",
     "text": [
      "Optimize a model with 8 rows, 12 columns and 19 nonzeros\n",
      "Coefficient statistics:\n",
      "  Matrix range     [1e+00, 1e+00]\n",
      "  Objective range  [2e+01, 5e+02]\n",
      "  Bounds range     [0e+00, 0e+00]\n",
      "  RHS range        [3e+01, 8e+01]\n",
      "Presolve removed 4 rows and 0 columns\n",
      "Presolve time: 0.02s\n",
      "Presolved: 4 rows, 12 columns, 15 nonzeros\n",
      "\n",
      "Iteration    Objective       Primal Inf.    Dual Inf.      Time\n",
      "       0    0.0000000e+00   1.900000e+02   0.000000e+00      0s\n",
      "       6    7.8450000e+04   0.000000e+00   0.000000e+00      0s\n",
      "\n",
      "Solved in 6 iterations and 0.03 seconds\n",
      "Optimal objective  7.845000000e+04\n",
      "(x-0) 40.0\n",
      "(y-0) 0.0\n",
      "(overhead-0) 10.0\n",
      "(x-1) 40.0\n",
      "(y-1) 10.0\n",
      "(overhead-1) 0.0\n",
      "(x-2) 40.0\n",
      "(y-2) 35.0\n",
      "(overhead-2) 0.0\n",
      "(x-3) 25.0\n",
      "(y-3) 0.0\n",
      "(overhead-3) 0.0\n",
      "78450.0\n"
     ]
    }
   ],
   "source": [
    "for time in range(tlength):\n",
    "    m.addConstr(vars[0][time] <= 40, \"supply regulation %s\" %vars[0][time])\n",
    "\n",
    "for time in range(tlength):\n",
    "    m.addConstr(vars[2][time] - vars[2][time+1] \n",
    "                + vars[0][time] + vars[1][time] - demand[time] == 0, \"inventory regulation %s\" %vars[0][time])\n",
    "\n",
    "m.optimize()\n",
    "\n",
    "for v in m.getVars():\n",
    "    print(v.varName, v.x)\n",
    "    \n",
    "print(m.getObjective().getValue())"
   ]
  }
 ],
 "metadata": {
  "kernelspec": {
   "display_name": "Python 3",
   "language": "python",
   "name": "python3"
  },
  "language_info": {
   "codemirror_mode": {
    "name": "ipython",
    "version": 3
   },
   "file_extension": ".py",
   "mimetype": "text/x-python",
   "name": "python",
   "nbconvert_exporter": "python",
   "pygments_lexer": "ipython3",
   "version": "3.5.4"
  }
 },
 "nbformat": 4,
 "nbformat_minor": 2
}
