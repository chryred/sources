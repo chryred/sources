{
 "cells": [
  {
   "cell_type": "code",
   "execution_count": 3,
   "metadata": {},
   "outputs": [
    {
     "name": "stdout",
     "output_type": "stream",
     "text": [
      "Optimize a model with 2 rows, 3 columns and 5 nonzeros\n",
      "Variable types: 0 continuous, 3 integer (3 binary)\n",
      "Coefficient statistics:\n",
      "  Matrix range     [1e+00, 3e+00]\n",
      "  Objective range  [1e+00, 2e+00]\n",
      "  Bounds range     [1e+00, 1e+00]\n",
      "  RHS range        [1e+00, 4e+00]\n",
      "Presolve removed 2 rows and 3 columns\n",
      "Presolve time: 0.00s\n",
      "Presolve: All rows and columns removed\n",
      "\n",
      "Explored 0 nodes (0 simplex iterations) in 0.03 seconds\n",
      "Thread count was 1 (of 4 available processors)\n",
      "\n",
      "Solution count 1: 3 \n",
      "Pool objective bound 3\n",
      "\n",
      "Optimal solution found (tolerance 1.00e-04)\n",
      "Best objective 3.000000000000e+00, best bound 3.000000000000e+00, gap 0.0000%\n",
      "x 1.0\n",
      "y 0.0\n",
      "z 1.0\n",
      "Obj: 3.0\n"
     ]
    }
   ],
   "source": [
    "from gurobipy import *\n",
    "\n",
    "try:\n",
    "\n",
    "    # Create a new model\n",
    "    m = Model(\"mip1\")\n",
    "\n",
    "    # Create variables\n",
    "    x = m.addVar(vtype=GRB.BINARY, name=\"x\")\n",
    "    y = m.addVar(vtype=GRB.BINARY, name=\"y\")\n",
    "    z = m.addVar(vtype=GRB.BINARY, name=\"z\")\n",
    "\n",
    "    # Integrate new variables\n",
    "    m.update()\n",
    "\n",
    "    # Set objective\n",
    "    m.setObjective(x + y + 2 * z, GRB.MAXIMIZE)\n",
    "\n",
    "    # Add constraint: x + 2 y + 3 z <= 4\n",
    "    m.addConstr(x + 2 * y + 3 * z <= 4, \"c0\")\n",
    "    # Add constraint: x + y >= 1\n",
    "    m.addConstr(x + y >= 1, \"c1\")\n",
    "\n",
    "    m.optimize()\n",
    "\n",
    "    for v in m.getVars():\n",
    "        print (v.varName, v.x)\n",
    "\n",
    "    print ('Obj:', m.objVal)\n",
    "\n",
    "except GurobiError:\n",
    "    print ('Error reported')"
   ]
  },
  {
   "cell_type": "code",
   "execution_count": 10,
   "metadata": {},
   "outputs": [
    {
     "name": "stdout",
     "output_type": "stream",
     "text": [
      "Optimize a model with 2 rows, 2 columns and 4 nonzeros\n",
      "Coefficient statistics:\n",
      "  Matrix range     [2e+00, 1e+01]\n",
      "  Objective range  [5e+01, 1e+02]\n",
      "  Bounds range     [0e+00, 0e+00]\n",
      "  RHS range        [2e+01, 3e+01]\n",
      "Presolve time: 0.02s\n",
      "Presolved: 2 rows, 2 columns, 4 nonzeros\n",
      "\n",
      "Iteration    Objective       Primal Inf.    Dual Inf.      Time\n",
      "       0    0.0000000e+00   5.000000e+00   0.000000e+00      0s\n",
      "       2    3.2000000e+02   0.000000e+00   0.000000e+00      0s\n",
      "\n",
      "Solved in 2 iterations and 0.03 seconds\n",
      "Optimal objective  3.200000000e+02\n",
      "x1 3.5999999999999996\n",
      "x2 1.4000000000000001\n",
      "Obj: 320.0\n"
     ]
    }
   ],
   "source": [
    "from gurobipy import *\n",
    "\n",
    "try:\n",
    "    # Create a new model\n",
    "    m = Model(\"Dorian Example\")\n",
    "\n",
    "    # Create variables\n",
    "    x1 = m.addVar(vtype=GRB.CONTINUOUS, name=\"x1\")\n",
    "    x2 = m.addVar(vtype=GRB.CONTINUOUS, name=\"x2\")\n",
    "\n",
    "    # Integrate new variables\n",
    "    m.update()\n",
    "\n",
    "    # Set objective\n",
    "    # Min z = 50x1 + 100x2 \t(objective function in $1,000)\n",
    "    m.setObjective(50 * x1 + 100 * x2, GRB.MINIMIZE)\n",
    "\n",
    "    # Add constraint: x + 2 y + 3 z <= 4\n",
    "    # 7x1 + 2x2 ≥ 28\t(high-income women)\n",
    "\t# 2x1 + 12x2 ≥ 24\t(high-income men)\n",
    "\t# x1, x2 ≥ 0\t\t(non-negativity constraints)\n",
    "    m.addConstr(7 * x1 + 2* x2 >= 28, \"c0\")\n",
    "    m.addConstr(2 * x1 + 12* x2 >= 24, \"c1\")\n",
    "\n",
    "    m.optimize()\n",
    "\n",
    "    for v in m.getVars():\n",
    "        print (v.varName, v.x)\n",
    "\n",
    "    print ('Obj:', m.objVal)\n",
    "\n",
    "except GurobiError as e:\n",
    "    print (e)\n",
    "    print ('Error reported')\n"
   ]
  }
 ],
 "metadata": {
  "kernelspec": {
   "display_name": "Python 3",
   "language": "python",
   "name": "python3"
  },
  "language_info": {
   "codemirror_mode": {
    "name": "ipython",
    "version": 3
   },
   "file_extension": ".py",
   "mimetype": "text/x-python",
   "name": "python",
   "nbconvert_exporter": "python",
   "pygments_lexer": "ipython3",
   "version": "3.5.4"
  }
 },
 "nbformat": 4,
 "nbformat_minor": 2
}
